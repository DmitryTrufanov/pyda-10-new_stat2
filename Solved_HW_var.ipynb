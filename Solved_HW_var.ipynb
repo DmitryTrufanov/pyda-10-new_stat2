{
 "cells": [
  {
   "cell_type": "code",
   "execution_count": null,
   "metadata": {},
   "outputs": [],
   "source": []
  },
  {
   "cell_type": "code",
   "execution_count": null,
   "metadata": {},
   "outputs": [],
   "source": []
  },
  {
   "cell_type": "markdown",
   "metadata": {},
   "source": [
    "Смоделировать игру против лотерейного автомата типа \"777\". Игрок платит 1 руб., после чего выпадает  \n",
    "случайное целое число, равномерно распределенное от 0 до 999. При некоторых значениях числа игрок получает выигрыш."
   ]
  },
  {
   "cell_type": "markdown",
   "metadata": {},
   "source": [
    " 777: 200 руб.  \n",
    " 999: 100 руб.  \n",
    " 555: 50 руб.  \n",
    " 333: 15 руб.  \n",
    " 111: 10 руб.  \n",
    " *77: 5 руб.  \n",
    " **7: 3 руб.  \n",
    " *00: 2 руб.  \n",
    " **0: 1 руб.  "
   ]
  },
  {
   "cell_type": "markdown",
   "metadata": {},
   "source": [
    "* Выгодна ли игра игроку?  \n",
    "* Сколько в среднем приобретает или теряет игрок за одну игру?"
   ]
  },
  {
   "cell_type": "code",
   "execution_count": 2,
   "metadata": {},
   "outputs": [],
   "source": [
    "import numpy as np"
   ]
  },
  {
   "cell_type": "code",
   "execution_count": 13,
   "metadata": {},
   "outputs": [
    {
     "name": "stdout",
     "output_type": "stream",
     "text": [
      "вероятность выйгрыша 0.8013859, выгода -0.1986141 руб с 1 руб\n"
     ]
    }
   ],
   "source": [
    "trials = 10000000   # количество попыток - 1 попытка 1 руб\n",
    "wins = 0   # количество успехов - у каждого успеха есть цена\n",
    "for i in range(trials):\n",
    "    random_score = np.random.randint(0,1000)\n",
    "    if random_score == 777:\n",
    "        wins += 200\n",
    "    elif random_score == 999:\n",
    "        wins += 100\n",
    "    elif random_score == 555:\n",
    "        wins += 50\n",
    "    elif random_score == 333:\n",
    "        wins += 15\n",
    "    elif random_score == 111:\n",
    "        wins += 10\n",
    "    elif (random_score-77)//100 == (random_score-77)/100 and random_score != 777:\n",
    "        wins += 5\n",
    "    elif (random_score-7)//10 == (random_score-7)/10 and random_score != 777 and random_score != 77:\n",
    "        wins += 3\n",
    "    elif random_score//100 == random_score/100:\n",
    "        wins += 2\n",
    "    elif random_score//10 == random_score/10 and random_score//100 != random_score/100:\n",
    "        wins += 1       \n",
    "p_monte_carlo = wins / trials\n",
    "profit = (wins - trials) / trials\n",
    "print(f'вероятность выйгрыша {p_monte_carlo}, выгода {profit} руб с 1 руб')"
   ]
  },
  {
   "cell_type": "markdown",
   "metadata": {},
   "source": [
    "**расчет теоретический**"
   ]
  },
  {
   "cell_type": "code",
   "execution_count": 14,
   "metadata": {},
   "outputs": [
    {
     "data": {
      "text/plain": [
       "-0.17599999999999993"
      ]
     },
     "execution_count": 14,
     "metadata": {},
     "output_type": "execute_result"
    }
   ],
   "source": [
    "profit = (1/1000*200 + 1/1000*100 + 1/1000*50 + 1/1000*15 + 1/1000*10 +9/1000*5 + 98/1000*3 + 10/1000*2 + 90/1000*1) - 1\n",
    "profit"
   ]
  }
 ],
 "metadata": {
  "kernelspec": {
   "display_name": "Python 3",
   "language": "python",
   "name": "python3"
  },
  "language_info": {
   "codemirror_mode": {
    "name": "ipython",
    "version": 3
   },
   "file_extension": ".py",
   "mimetype": "text/x-python",
   "name": "python",
   "nbconvert_exporter": "python",
   "pygments_lexer": "ipython3",
   "version": "3.7.6"
  }
 },
 "nbformat": 4,
 "nbformat_minor": 4
}
